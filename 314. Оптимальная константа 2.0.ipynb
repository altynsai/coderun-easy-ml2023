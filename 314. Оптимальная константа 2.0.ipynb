{
 "cells": [
  {
   "cell_type": "markdown",
   "id": "0244282a",
   "metadata": {},
   "source": [
    "# 314. Оптимальная константа 2.0"
   ]
  },
  {
   "cell_type": "markdown",
   "id": "9048e7fa",
   "metadata": {},
   "source": [
    "**Подробное условие задачи**: https://coderun.yandex.ru/problem/happiness/description?currentPage=1&difficulty=EASY&pageSize=10&tag=first_2023_ml&rowNumber=5"
   ]
  },
  {
   "cell_type": "markdown",
   "id": "625534f2",
   "metadata": {},
   "source": [
    "**Переформулированное условие задачи**: Для данного списка значений двух статитик a и b, нам нужно найти константные значения, оптимизирующие следующие метрики качества: среднеквадратичное отклонение MSE, Mean squared logarithmic error и Logistic loss. Целевая функция равна t = a/b, а весы значений равны w = b."
   ]
  },
  {
   "cell_type": "markdown",
   "id": "d60006fa",
   "metadata": {},
   "source": [
    "**Решение**: Поскольку формулы метрик даны в условии задачи, то константы можно найти, посчитав первые произодные функций и приравняв их нулю. Таким образом мы получили среднее взвешенное t для MSE и для Logistic loss, а для MSLE - среднее взвешенное логарифма t."
   ]
  },
  {
   "cell_type": "code",
   "execution_count": 1,
   "id": "86bf2d13",
   "metadata": {
    "scrolled": true
   },
   "outputs": [
    {
     "name": "stdout",
     "output_type": "stream",
     "text": [
      "5\n",
      "6\n",
      "4\n",
      "3\n",
      "5\n",
      "3\n",
      "4.2\n",
      "4.0\n",
      "3\n"
     ]
    }
   ],
   "source": [
    "import numpy as np\n",
    "import pandas as pd\n",
    "import math\n",
    "def main():\n",
    "    y = []\n",
    "    n, k = tuple(map(int, input().split()))\n",
    "    for _ in range(n):\n",
    "        y.append(tuple(map(float, input().split()))[-2:])\n",
    "    df = pd.DataFrame(y, columns = ['a', 'w'])\n",
    "    df['t'] = df['a']/df['w']\n",
    "    const_mse = sum(df['t']*df['w'])/df['w'].sum()\n",
    "    df['1+t'] = df['t']+1\n",
    "    df['ln(1+t)'] = df['1+t'].apply(math.log)\n",
    "    log_const_msle = sum(df['ln(1+t)']*df['w'])/df['w'].sum()\n",
    "    const_msle = math.exp(log_const_msle)-1\n",
    "    ans = [const_mse, const_msle, const_mse]\n",
    "    print(*ans)\n",
    "\n",
    "\n",
    "if __name__ == '__main__':\n",
    "    main()"
   ]
  },
  {
   "cell_type": "markdown",
   "id": "5d66625b",
   "metadata": {},
   "source": [
    "**Сложность по времени исполнения**: О(n)"
   ]
  },
  {
   "cell_type": "markdown",
   "id": "be6f85c9",
   "metadata": {},
   "source": [
    "**Сложность по памяти**: О(n)"
   ]
  }
 ],
 "metadata": {
  "kernelspec": {
   "display_name": "Python 3 (ipykernel)",
   "language": "python",
   "name": "python3"
  },
  "language_info": {
   "codemirror_mode": {
    "name": "ipython",
    "version": 3
   },
   "file_extension": ".py",
   "mimetype": "text/x-python",
   "name": "python",
   "nbconvert_exporter": "python",
   "pygments_lexer": "ipython3",
   "version": "3.10.9"
  }
 },
 "nbformat": 4,
 "nbformat_minor": 5
}
