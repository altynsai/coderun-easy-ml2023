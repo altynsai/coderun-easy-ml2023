{
 "cells": [
  {
   "cell_type": "markdown",
   "id": "0244282a",
   "metadata": {},
   "source": [
    "# 184. Восстановление коэффициентов"
   ]
  },
  {
   "cell_type": "markdown",
   "id": "9048e7fa",
   "metadata": {},
   "source": [
    "**Подробное условие задачи**: https://coderun.yandex.ru/problem/coefficients-restoration?currentPage=1&difficulty=EASY&pageSize=10&tag=first_2023_ml&rowNumber=2"
   ]
  },
  {
   "cell_type": "markdown",
   "id": "625534f2",
   "metadata": {},
   "source": [
    "**Краткое условие задачи**: Дана функция:"
   ]
  },
  {
   "cell_type": "markdown",
   "id": "fd8cc7ea",
   "metadata": {},
   "source": [
    "$ f(x) = ((a + \\epsilon_a)\\sin x + (b + \\epsilon_b)\\ln x)^2 + (x + \\epsilon_c)x^2$"
   ]
  },
  {
   "cell_type": "markdown",
   "id": "a91f4421",
   "metadata": {},
   "source": [
    "Нужно найти коэффициенты a, b, c."
   ]
  },
  {
   "cell_type": "markdown",
   "id": "d60006fa",
   "metadata": {},
   "source": [
    "**Решение**: Основная идея раскрыть все скобки, преобразовать x, чтобы получить линейное выражение и оценить коэффиценты с помощью линейной регрессии."
   ]
  },
  {
   "cell_type": "code",
   "execution_count": 1,
   "id": "86bf2d13",
   "metadata": {
    "scrolled": true
   },
   "outputs": [
    {
     "name": "stdout",
     "output_type": "stream",
     "text": [
      "3.14 2.72 4.0\n"
     ]
    }
   ],
   "source": [
    "import pandas as pd\n",
    "import math\n",
    "from sklearn.linear_model import LinearRegression\n",
    "data = pd.read_csv('data.csv')\n",
    "data.columns = ['x', 'y']\n",
    "data['sinx'] = data['x'].apply(math.sin)\n",
    "data['sinx_2'] = data['sinx']**2\n",
    "data['lnx'] = data['x'].apply(math.log)\n",
    "data['lnx_2'] = data['lnx']**2\n",
    "data['2lnx_sinx'] = data['lnx']*data['sinx']*2\n",
    "data['x2'] = data['x']**2\n",
    "y = data['y']\n",
    "x = data.drop(['sinx', 'lnx', 'y', 'x'], axis=1)\n",
    "model = LinearRegression()\n",
    "model.fit(x, y)\n",
    "results = pd.DataFrame({'columns':x.columns, 'coefs':model.coef_})\n",
    "a = round(results.iloc[0,1]**0.5,2)\n",
    "b = round(results.iloc[1,1]**0.5,2)\n",
    "c = round(results.iloc[3,1], 2)\n",
    "print(a,b,c)"
   ]
  },
  {
   "cell_type": "markdown",
   "id": "5d66625b",
   "metadata": {},
   "source": [
    "**Сложность по времени исполнения**: О(n)"
   ]
  },
  {
   "cell_type": "markdown",
   "id": "be6f85c9",
   "metadata": {},
   "source": [
    "**Сложность по памяти**: О(n)"
   ]
  }
 ],
 "metadata": {
  "kernelspec": {
   "display_name": "Python 3 (ipykernel)",
   "language": "python",
   "name": "python3"
  },
  "language_info": {
   "codemirror_mode": {
    "name": "ipython",
    "version": 3
   },
   "file_extension": ".py",
   "mimetype": "text/x-python",
   "name": "python",
   "nbconvert_exporter": "python",
   "pygments_lexer": "ipython3",
   "version": "3.10.9"
  }
 },
 "nbformat": 4,
 "nbformat_minor": 5
}
