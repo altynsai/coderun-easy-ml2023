{
 "cells": [
  {
   "cell_type": "markdown",
   "id": "0244282a",
   "metadata": {},
   "source": [
    "# 283. Канатная дорога"
   ]
  },
  {
   "cell_type": "markdown",
   "id": "9048e7fa",
   "metadata": {},
   "source": [
    "**Подробное условие задачи**: https://coderun.yandex.ru/problem/cable-car?currentPage=1&difficulty=EASY&pageSize=10&tag=first_2023_ml&rowNumber=3"
   ]
  },
  {
   "cell_type": "markdown",
   "id": "625534f2",
   "metadata": {},
   "source": [
    "**Переформулированное условие задачи**: дается n количество точек (x_i, y_i). Нам нужно провести линию через все точки, начиная с точки (0, 0), а также соединить точки со следующей большей по значению y_i. Программа должна вывести длину прямой, соединяющей точки по указанному условию."
   ]
  },
  {
   "cell_type": "markdown",
   "id": "d60006fa",
   "metadata": {},
   "source": [
    "**Решение**: Для решения задачи предлагаю воспользоваться структурой stack. Мы последовательно добавляем точки в наш stack, если координата y_i меньше, чем у последней точки stack. При этом мы суммируем расстояние между текущей точкой и последней точкой в stack. Если y_i больше или равно, мы также прибавляем расстояние между текущей точкой и последней точкой stack, но теперь мы удаляем последний элемент stack, до тех пор пока не найдем большее значение y_i. "
   ]
  },
  {
   "cell_type": "code",
   "execution_count": 1,
   "id": "86bf2d13",
   "metadata": {
    "scrolled": true
   },
   "outputs": [
    {
     "name": "stdout",
     "output_type": "stream",
     "text": [
      "6\n",
      "3 2\n",
      "5 1\n",
      "7 4\n",
      "9 3\n",
      "11 7\n",
      "12 1\n",
      "31.710272946224936\n"
     ]
    }
   ],
   "source": [
    "def main():\n",
    "    n = int(input())\n",
    "    peaks = [(0,0)]\n",
    "    length = 0\n",
    "    for _ in range(n):\n",
    "        x, y = tuple(map(int, input().split()))\n",
    "        if y < peaks[-1][1]:\n",
    "            length+=((x - peaks[-1][0])**2 + (y-peaks[-1][1])**2)**0.5\n",
    "            peaks.append((x,y))\n",
    "        else:\n",
    "            while len(peaks)>0 and y >= peaks[-1][1]:\n",
    "                length+=((x - peaks[-1][0])**2 + (y-peaks[-1][1])**2)**0.5\n",
    "                peaks.pop(-1)\n",
    "            peaks.append((x,y)) \n",
    "\n",
    "    print(length)\n",
    "\n",
    "if __name__ == '__main__':\n",
    "    main()"
   ]
  },
  {
   "cell_type": "markdown",
   "id": "5d66625b",
   "metadata": {},
   "source": [
    "**Сложность по времени исполнения**: О(n)"
   ]
  },
  {
   "cell_type": "markdown",
   "id": "be6f85c9",
   "metadata": {},
   "source": [
    "**Сложность по памяти**: О(n)"
   ]
  }
 ],
 "metadata": {
  "kernelspec": {
   "display_name": "Python 3 (ipykernel)",
   "language": "python",
   "name": "python3"
  },
  "language_info": {
   "codemirror_mode": {
    "name": "ipython",
    "version": 3
   },
   "file_extension": ".py",
   "mimetype": "text/x-python",
   "name": "python",
   "nbconvert_exporter": "python",
   "pygments_lexer": "ipython3",
   "version": "3.10.9"
  }
 },
 "nbformat": 4,
 "nbformat_minor": 5
}
