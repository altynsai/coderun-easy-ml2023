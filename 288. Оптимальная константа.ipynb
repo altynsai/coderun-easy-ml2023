{
 "cells": [
  {
   "cell_type": "markdown",
   "id": "0244282a",
   "metadata": {},
   "source": [
    "# 288. Оптимальная константа"
   ]
  },
  {
   "cell_type": "markdown",
   "id": "9048e7fa",
   "metadata": {},
   "source": [
    "**Подробное условие задачи**: https://coderun.yandex.ru/problem/optimal-constant?currentPage=1&difficulty=EASY&pageSize=10&tag=first_2023_ml&rowNumber=4"
   ]
  },
  {
   "cell_type": "markdown",
   "id": "625534f2",
   "metadata": {},
   "source": [
    "**Переформулированное условие задачи**: Для данного списка значений нам нужно найти константные значения, оптимизирующие следующие метрики качества: среднеквадратичное отклонение MSE, среднюю абсолютную ошибку MAE и cреднюю абсолютную процентную ошибку MAPE."
   ]
  },
  {
   "cell_type": "markdown",
   "id": "d60006fa",
   "metadata": {},
   "source": [
    "**Решение**: Первые две метрики достаточно простые: в первом случае, минимум достигается при предсказании среднего арифметического, во втором случае - медианы. Библиотека numpy позволяет посчитать эти значения с помощью методов mean и median. Для MAPE, после изучения статей в google, можно найти, что *\"Оптимизацию MAPE можно представить как оптимизацию MAE, где объектам выборки присвоен вес 1/|y_i|\"* (https://academy.yandex.ru/handbook/ml/article/metriki-klassifikacii-i-regressii)"
   ]
  },
  {
   "cell_type": "code",
   "execution_count": 1,
   "id": "86bf2d13",
   "metadata": {
    "scrolled": true
   },
   "outputs": [
    {
     "name": "stdout",
     "output_type": "stream",
     "text": [
      "5\n",
      "6\n",
      "4\n",
      "3\n",
      "5\n",
      "3\n",
      "4.2\n",
      "4.0\n",
      "3\n"
     ]
    }
   ],
   "source": [
    "import numpy as np\n",
    "import math\n",
    "def main():\n",
    "    y = []\n",
    "    n = int(input())\n",
    "    for _ in range(n):\n",
    "        y.append(int(input()))\n",
    "    const_mse = np.mean(y)\n",
    "    const_mae = np.median(y)\n",
    "    y.sort()\n",
    "    y_cum = np.cumsum([1/x for x in y])\n",
    "    mid_perc = y_cum[-1]/2\n",
    "    for i in range(n):\n",
    "        if y_cum[i]>= mid_perc:\n",
    "            const_mape = y[i]\n",
    "            break\n",
    "    print(const_mse)\n",
    "    print(const_mae)\n",
    "    print(const_mape)\n",
    "\n",
    "\n",
    "\n",
    "if __name__ == '__main__':\n",
    "    main()"
   ]
  },
  {
   "cell_type": "markdown",
   "id": "5d66625b",
   "metadata": {},
   "source": [
    "**Сложность по времени исполнения**: О(n)"
   ]
  },
  {
   "cell_type": "markdown",
   "id": "be6f85c9",
   "metadata": {},
   "source": [
    "**Сложность по памяти**: О(n)"
   ]
  }
 ],
 "metadata": {
  "kernelspec": {
   "display_name": "Python 3 (ipykernel)",
   "language": "python",
   "name": "python3"
  },
  "language_info": {
   "codemirror_mode": {
    "name": "ipython",
    "version": 3
   },
   "file_extension": ".py",
   "mimetype": "text/x-python",
   "name": "python",
   "nbconvert_exporter": "python",
   "pygments_lexer": "ipython3",
   "version": "3.10.9"
  }
 },
 "nbformat": 4,
 "nbformat_minor": 5
}
