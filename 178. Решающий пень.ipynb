{
 "cells": [
  {
   "cell_type": "markdown",
   "id": "0244282a",
   "metadata": {},
   "source": [
    "# 178. Решающий пень"
   ]
  },
  {
   "cell_type": "markdown",
   "id": "9048e7fa",
   "metadata": {},
   "source": [
    "**Подробное условие задачи**: https://coderun.yandex.ru/problem/stump?currentPage=1&difficulty=EASY&pageSize=10&tag=first_2023_ml&rowNumber=1"
   ]
  },
  {
   "cell_type": "markdown",
   "id": "625534f2",
   "metadata": {},
   "source": [
    "**Переформулированное условие задачи**: Без использования библиотек, нужно построить модель решающего дерева с одним листом. То есть нужно найти пороговое значение *с*, которое разделит данные на 2 группы. Для каждой группы нужно выбрать константное значение, которое минимизирует ошибку. "
   ]
  },
  {
   "cell_type": "markdown",
   "id": "d60006fa",
   "metadata": {},
   "source": [
    "**Решение**: Так как метрика по условию задачи RSME, то минимум будет достигаться в среднем арифметическом. Нам нужно отсортировать значения по *х* и посчитать MSE для каждого порогового значения. При наивном подходе, мы получаем квадратическую сложность алгоритма, что не позволяет пройти все тесты на компиляторе. Поэтому будем сохранять текущие суммы для быстрого расчета средних значений для обоих групп, а также воспользуемся формулой: MSE = E(x^2) - E(x)^2. Кроме того, нужно учесть повторяющиеся значения х."
   ]
  },
  {
   "cell_type": "code",
   "execution_count": 2,
   "id": "86bf2d13",
   "metadata": {
    "scrolled": true
   },
   "outputs": [
    {
     "name": "stdout",
     "output_type": "stream",
     "text": [
      "4\n",
      "0 1\n",
      "1 1\n",
      "2 0\n",
      "3 0\n",
      "1.0 0.0 2\n"
     ]
    }
   ],
   "source": [
    "def main():\n",
    "    n = int(input())\n",
    "    x = []\n",
    "    tot_sum = 0\n",
    "    tot_sum2 = 0\n",
    "    for _ in range(n):\n",
    "        x.append(tuple(map(int, input().split())))\n",
    "        tot_sum+=x[-1][1]\n",
    "        tot_sum2+=x[-1][1]**2\n",
    "    x.sort()\n",
    "    cur_sum = 0\n",
    "    cur_sum2 = 0\n",
    "    a = 0\n",
    "    b = tot_sum/n\n",
    "    c = x[0][0]\n",
    "    minmse = tot_sum2/n-(tot_sum/n)**2\n",
    "    for i in range(1, n):\n",
    "        cur_sum+=x[i-1][1]\n",
    "        cur_sum2+=x[i-1][1]**2\n",
    "        if x[i][0]==x[i-1][0]:\n",
    "            continue\n",
    "        else:\n",
    "            mean_left = cur_sum/i\n",
    "            mse_left = (cur_sum2/i-mean_left**2)*i\n",
    "            mean_right = (tot_sum - cur_sum)/(n-i)\n",
    "            mse_right = ((tot_sum2 - cur_sum2)/(n-i)-mean_right**2)*(n-i)\n",
    "            if minmse > (mse_left+mse_right)/n:\n",
    "                minmse = (mse_left+mse_right)/n\n",
    "                a = mean_left\n",
    "                b = mean_right\n",
    "                c = x[i][0]\n",
    "    ans = [a, b, c]\n",
    "    print(*ans)\n",
    "\n",
    "if __name__ == '__main__':\n",
    "    main()"
   ]
  },
  {
   "cell_type": "markdown",
   "id": "5d66625b",
   "metadata": {},
   "source": [
    "**Сложность по времени исполнения**: О(n)"
   ]
  },
  {
   "cell_type": "markdown",
   "id": "be6f85c9",
   "metadata": {},
   "source": [
    "**Сложность по памяти**: О(n)"
   ]
  }
 ],
 "metadata": {
  "kernelspec": {
   "display_name": "Python 3 (ipykernel)",
   "language": "python",
   "name": "python3"
  },
  "language_info": {
   "codemirror_mode": {
    "name": "ipython",
    "version": 3
   },
   "file_extension": ".py",
   "mimetype": "text/x-python",
   "name": "python",
   "nbconvert_exporter": "python",
   "pygments_lexer": "ipython3",
   "version": "3.10.9"
  }
 },
 "nbformat": 4,
 "nbformat_minor": 5
}
